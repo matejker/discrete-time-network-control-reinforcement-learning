{
 "cells": [
  {
   "cell_type": "markdown",
   "id": "5d63068f",
   "metadata": {},
   "source": [
    "# Notation\n",
    "Comprehensive summary of notation used over the framework."
   ]
  },
  {
   "cell_type": "markdown",
   "id": "e8c9d8ed",
   "metadata": {},
   "source": [
    "## Algebra\n",
    "\n",
    "### Finite fields\n",
    " - $p$ - prime\n",
    " - $k \\in \\mathbb{N}$ - factor\n",
    " - $q = p^k$ - prime factor\n",
    " - $\\mathbb{F_q} = GF(q) = GF(p^k)$ - Finite field / Galois field\n",
    "\n",
    "### Base number\n",
    " - $number_q$ - number in base $q$"
   ]
  },
  {
   "cell_type": "markdown",
   "id": "f7001f51",
   "metadata": {},
   "source": [
    "## Control theory\n",
    "Time invariant discrete time system:  \n",
    "$x_{t+1} = Ax_t + Bu_{t+1}$  \n",
    " - $x_t \\in \\mathbb{F_q}$ - state vector at time $t$  \n",
    " - $A \\in \\mathbb{F_q}^{n\\times n}$ - adjacency matrix of the network  \n",
    " - $B \\in \\{0,1\\}^{n\\times m}$ - input matrix  \n",
    " - $u_t \\in \\mathbb{F_q}^{m}$ - control signal at time $t$  \n",
    " - $n \\in \\mathbb{N}$ - number of nodes  \n",
    " - $m \\in \\mathbb{N}, m \\leq n$ - number of controler / driver nodes  \n",
    " - $t = {0, 1, 2,\\dots}$  \n",
    " - $T \\leq n$ - time horizon  \n",
    " - $x_0$ - initial state  \n",
    " - $x_T$ - end state"
   ]
  }
 ],
 "metadata": {
  "kernelspec": {
   "display_name": "Python 3 (ipykernel)",
   "language": "python",
   "name": "python3"
  },
  "language_info": {
   "codemirror_mode": {
    "name": "ipython",
    "version": 3
   },
   "file_extension": ".py",
   "mimetype": "text/x-python",
   "name": "python",
   "nbconvert_exporter": "python",
   "pygments_lexer": "ipython3",
   "version": "3.8.9"
  }
 },
 "nbformat": 4,
 "nbformat_minor": 5
}
