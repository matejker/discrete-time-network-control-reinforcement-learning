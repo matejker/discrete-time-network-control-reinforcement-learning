{
 "cells": [
  {
   "cell_type": "markdown",
   "id": "020fd74b",
   "metadata": {},
   "source": [
    "# Network control theory\n",
    "\n",
    "We say that a network is fully controlable if its' states can be changed from any inital condition to arbitary end state. Network control problem can be represented as a state-space linear system of ordinary differentional equations (ODE).\n",
    "\n",
    "$$x(t) = Ax(t) + Bx(t)$$\n",
    "with a solution \n",
    "\n",
    "$$x(t) = e^{At}x_0 + \\int_0^t e^{A(t - \\tau)}Bu_\\tau d\\tau$$\n",
    "where $x(t) \\in \\mathbb{R}^{n}$ are node's states at time t, $A \\in \\mathbb{R}^{n\\times n}$ is the network adjacency matrix, $B \\in \\mathbb{R}^{n\\times m}$ is so called _input matrix_ and fianlly $u(t) \\in \\mathbb{R}^{m}$ are actuations or signals at time t. \n",
    "\n",
    "According to _Controllability of complex networks_ [1],  is a result of minimal matching, where we are controling only unmatched nodes, which in the line network case, is the first node."
   ]
  },
  {
   "cell_type": "markdown",
   "id": "19129999",
   "metadata": {},
   "source": [
    "## Dicrete time system\n",
    "However, there are many practical implementaion of dicrete time network evolution and it is easier for Reinforcement Learning to solve such problems. Therefore, in the framework we concentrate on discrete systems only.\n",
    "\n",
    "$$x_{t+1} = Ax_{t} + Bu_{t+1}$$"
   ]
  },
  {
   "cell_type": "markdown",
   "id": "c9d79481",
   "metadata": {},
   "source": [
    "## References\n",
    "[1] Liu, Y. Y., Slotine, J. J. & Barabási, A. L. (2011), \"_Controllability of complex networks_\". Nature 473, 167–173. https://doi.org/10.1038/nature10011"
   ]
  }
 ],
 "metadata": {
  "kernelspec": {
   "display_name": "Python 3 (ipykernel)",
   "language": "python",
   "name": "python3"
  },
  "language_info": {
   "codemirror_mode": {
    "name": "ipython",
    "version": 3
   },
   "file_extension": ".py",
   "mimetype": "text/x-python",
   "name": "python",
   "nbconvert_exporter": "python",
   "pygments_lexer": "ipython3",
   "version": "3.8.9"
  }
 },
 "nbformat": 4,
 "nbformat_minor": 5
}
