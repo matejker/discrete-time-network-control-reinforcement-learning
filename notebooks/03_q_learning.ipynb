{
 "cells": [
  {
   "cell_type": "markdown",
   "id": "70b08812",
   "metadata": {},
   "source": [
    "# Q-learning\n",
    "$$Q(x_t, u_t) \\leftarrow Q(x_t, u_t) + \\alpha [R_{t+1} + \\gamma max_{u} Q(x_t, u) - Q(x_t, u_t)]$$"
   ]
  },
  {
   "cell_type": "code",
   "execution_count": 1,
   "id": "90398555",
   "metadata": {},
   "outputs": [],
   "source": [
    "import os\n",
    "import sys\n",
    "import numpy as np\n",
    "\n",
    "module_path = os.path.abspath(os.path.join(\"..\"))\n",
    "if module_path not in sys.path:\n",
    "    sys.path.append(module_path)\n",
    "\n",
    "from network_control_rl_framework.rl import QLearning\n",
    "from network_control_rl_framework.algebra import BaseNumber, FiniteField\n",
    "from network_control_rl_framework.network import Network, calculate_next_state, calculate_next_state_base_number"
   ]
  },
  {
   "cell_type": "code",
   "execution_count": 2,
   "id": "2fbda865",
   "metadata": {},
   "outputs": [],
   "source": [
    "network = Network()\n",
    "network.from_edges([(0, 1), (1, 2), (2, 3)])\n",
    "\n",
    "input_matrix = {0: 0}\n",
    "q = 8\n",
    "n = network.nodes\n",
    "\n",
    "initial_state = BaseNumber(n, q)\n",
    "initial_state.from_array(np.array([1, 2, 3, 1]))\n",
    "end_state = BaseNumber(n, q)\n",
    "end_state.from_array(np.array([1, 3, 2, 1]))\n",
    "\n",
    "model = QLearning(\n",
    "    initial_state,\n",
    "    end_state,\n",
    "    network,\n",
    "    input_matrix,\n",
    "    num_episodes=200,\n",
    "    max_iteration=10\n",
    ")\n",
    "model.train()"
   ]
  },
  {
   "cell_type": "code",
   "execution_count": 3,
   "id": "9b84883c",
   "metadata": {},
   "outputs": [
    {
     "data": {
      "text/plain": [
       "array([[2.],\n",
       "       [3.],\n",
       "       [1.]])"
      ]
     },
     "execution_count": 3,
     "metadata": {},
     "output_type": "execute_result"
    }
   ],
   "source": [
    "model.get_signals(vector=True)"
   ]
  },
  {
   "cell_type": "code",
   "execution_count": null,
   "id": "031baffc",
   "metadata": {},
   "outputs": [],
   "source": []
  },
  {
   "cell_type": "code",
   "execution_count": null,
   "id": "b6986e82",
   "metadata": {},
   "outputs": [],
   "source": []
  },
  {
   "cell_type": "code",
   "execution_count": null,
   "id": "91a54dd9",
   "metadata": {},
   "outputs": [],
   "source": []
  }
 ],
 "metadata": {
  "kernelspec": {
   "display_name": "Python 3 (ipykernel)",
   "language": "python",
   "name": "python3"
  },
  "language_info": {
   "codemirror_mode": {
    "name": "ipython",
    "version": 3
   },
   "file_extension": ".py",
   "mimetype": "text/x-python",
   "name": "python",
   "nbconvert_exporter": "python",
   "pygments_lexer": "ipython3",
   "version": "3.8.9"
  }
 },
 "nbformat": 4,
 "nbformat_minor": 5
}
