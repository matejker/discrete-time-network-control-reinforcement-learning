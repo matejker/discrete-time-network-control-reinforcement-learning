{
 "cells": [
  {
   "cell_type": "markdown",
   "id": "81f87b7c",
   "metadata": {},
   "source": [
    "# Q-learning\n",
    "$$Q(x_t, u_t) \\leftarrow Q(x_t, u_t) + \\alpha [R_{t+1} + \\gamma max_{u} Q(x_t, u) - Q(x_t, u_t)]$$"
   ]
  },
  {
   "cell_type": "code",
   "execution_count": 1,
   "id": "7c9b38bd",
   "metadata": {},
   "outputs": [],
   "source": [
    "import os\n",
    "import sys\n",
    "import numpy as np\n",
    "\n",
    "module_path = os.path.abspath(os.path.join(\"..\"))\n",
    "if module_path not in sys.path:\n",
    "    sys.path.append(module_path)\n",
    "\n",
    "from network_control_rl_framework.algebra import BaseNumber, FiniteField\n",
    "from network_control_rl_framework.network import Network, calculate_next_state, calculate_next_state_base_number"
   ]
  },
  {
   "cell_type": "code",
   "execution_count": null,
   "id": "93a8c6ae",
   "metadata": {},
   "outputs": [],
   "source": []
  }
 ],
 "metadata": {
  "kernelspec": {
   "display_name": "Python 3 (ipykernel)",
   "language": "python",
   "name": "python3"
  },
  "language_info": {
   "codemirror_mode": {
    "name": "ipython",
    "version": 3
   },
   "file_extension": ".py",
   "mimetype": "text/x-python",
   "name": "python",
   "nbconvert_exporter": "python",
   "pygments_lexer": "ipython3",
   "version": "3.8.9"
  }
 },
 "nbformat": 4,
 "nbformat_minor": 5
}
