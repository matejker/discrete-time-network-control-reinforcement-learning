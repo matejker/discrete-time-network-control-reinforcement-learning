{
 "cells": [
  {
   "cell_type": "markdown",
   "id": "a75a03cf",
   "metadata": {},
   "source": [
    "# Sarsa\n",
    "$$Q(x_t, u_t) \\leftarrow Q(x_t, u_t) + \\alpha [R_{t+1} + \\gamma Q(x_{t+1}, u_{t+1}) - Q(x_t, u_t)]$$"
   ]
  },
  {
   "cell_type": "code",
   "execution_count": 1,
   "id": "ff79fa4c",
   "metadata": {},
   "outputs": [],
   "source": [
    "import os\n",
    "import sys\n",
    "import numpy as np\n",
    "\n",
    "module_path = os.path.abspath(os.path.join(\"..\"))\n",
    "if module_path not in sys.path:\n",
    "    sys.path.append(module_path)\n",
    "\n",
    "from network_control_rl_framework.rl import Sarsa\n",
    "from network_control_rl_framework.algebra import BaseNumber\n",
    "from network_control_rl_framework.network import Network, calculate_next_state_base_number"
   ]
  },
  {
   "cell_type": "code",
   "execution_count": 2,
   "id": "2cb90faa",
   "metadata": {},
   "outputs": [
    {
     "name": "stdout",
     "output_type": "stream",
     "text": [
      "\r",
      "Training: |--------------------------------------------------| 0.0% Complete\r",
      "\r",
      "Progress: |--------------------------------------------------| 0.0% Complete\r",
      "\r",
      "Progress: |█-------------------------------------------------| 2.0% Complete\r",
      "\r",
      "Progress: |██------------------------------------------------| 4.0% Complete\r",
      "\r",
      "Progress: |███-----------------------------------------------| 6.0% Complete\r",
      "\r",
      "Progress: |████----------------------------------------------| 8.0% Complete\r",
      "\r",
      "Progress: |█████---------------------------------------------| 10.0% Complete\r",
      "\r",
      "Progress: |██████--------------------------------------------| 12.0% Complete\r",
      "\r",
      "Progress: |███████-------------------------------------------| 14.0% Complete\r",
      "\r",
      "Progress: |████████------------------------------------------| 16.0% Complete\r",
      "\r",
      "Progress: |█████████-----------------------------------------| 18.0% Complete\r",
      "\r",
      "Progress: |██████████----------------------------------------| 20.0% Complete\r",
      "\r",
      "Progress: |███████████---------------------------------------| 22.0% Complete\r",
      "\r",
      "Progress: |████████████--------------------------------------| 24.0% Complete\r",
      "\r",
      "Progress: |█████████████-------------------------------------| 26.0% Complete\r",
      "\r",
      "Progress: |██████████████------------------------------------| 28.0% Complete\r",
      "\r",
      "Progress: |███████████████-----------------------------------| 30.0% Complete\r",
      "\r",
      "Progress: |████████████████----------------------------------| 32.0% Complete\r",
      "\r",
      "Progress: |█████████████████---------------------------------| 34.0% Complete\r",
      "\r",
      "Progress: |██████████████████--------------------------------| 36.0% Complete\r",
      "\r",
      "Progress: |███████████████████-------------------------------| 38.0% Complete\r",
      "\r",
      "Progress: |████████████████████------------------------------| 40.0% Complete\r",
      "\r",
      "Progress: |█████████████████████-----------------------------| 42.0% Complete\r",
      "\r",
      "Progress: |██████████████████████----------------------------| 44.0% Complete\r",
      "\r",
      "Progress: |███████████████████████---------------------------| 46.0% Complete\r",
      "\r",
      "Progress: |████████████████████████--------------------------| 48.0% Complete\r",
      "\r",
      "Progress: |█████████████████████████-------------------------| 50.0% Complete\r",
      "\r",
      "Progress: |██████████████████████████------------------------| 52.0% Complete\r",
      "\r",
      "Progress: |███████████████████████████-----------------------| 54.0% Complete\r",
      "\r",
      "Progress: |████████████████████████████----------------------| 56.0% Complete\r",
      "\r",
      "Progress: |█████████████████████████████---------------------| 58.0% Complete\r",
      "\r",
      "Progress: |██████████████████████████████--------------------| 60.0% Complete\r",
      "\r",
      "Progress: |███████████████████████████████-------------------| 62.0% Complete\r",
      "\r",
      "Progress: |████████████████████████████████------------------| 64.0% Complete\r",
      "\r",
      "Progress: |█████████████████████████████████-----------------| 66.0% Complete\r",
      "\r",
      "Progress: |██████████████████████████████████----------------| 68.0% Complete\r",
      "\r",
      "Progress: |███████████████████████████████████---------------| 70.0% Complete\r",
      "\r",
      "Progress: |████████████████████████████████████--------------| 72.0% Complete\r",
      "\r",
      "Progress: |█████████████████████████████████████-------------| 74.0% Complete\r",
      "\r",
      "Progress: |██████████████████████████████████████------------| 76.0% Complete\r",
      "\r",
      "Progress: |███████████████████████████████████████-----------| 78.0% Complete\r",
      "\r",
      "Progress: |████████████████████████████████████████----------| 80.0% Complete\r",
      "\r",
      "Progress: |█████████████████████████████████████████---------| 82.0% Complete\r",
      "\r",
      "Progress: |██████████████████████████████████████████--------| 84.0% Complete\r",
      "\r",
      "Progress: |███████████████████████████████████████████-------| 86.0% Complete\r",
      "\r",
      "Progress: |████████████████████████████████████████████------| 88.0% Complete\r",
      "\r",
      "Progress: |█████████████████████████████████████████████-----| 90.0% Complete\r",
      "\r",
      "Progress: |██████████████████████████████████████████████----| 92.0% Complete\r",
      "\r",
      "Progress: |███████████████████████████████████████████████---| 94.0% Complete\r",
      "\r",
      "Progress: |████████████████████████████████████████████████--| 96.0% Complete\r",
      "\r",
      "Progress: |█████████████████████████████████████████████████-| 98.0% Complete\r",
      "\r",
      "Progress: |██████████████████████████████████████████████████| 100.0% Complete\r\n"
     ]
    }
   ],
   "source": [
    "network = Network()\n",
    "network.from_edges([(0, 1), (1, 2), (2, 3)])\n",
    "\n",
    "input_matrix = {0: 0}\n",
    "q = 4\n",
    "n = network.nodes\n",
    "\n",
    "initial_state = BaseNumber(n, q)\n",
    "initial_state.from_array(np.array([1, 2, 3, 1]))\n",
    "end_state = BaseNumber(n, q)\n",
    "end_state.from_array(np.array([1, 3, 2, 1]))\n",
    "\n",
    "model = Sarsa(\n",
    "    initial_state,\n",
    "    end_state,\n",
    "    network,\n",
    "    input_matrix,\n",
    "    num_episodes=50,\n",
    "    max_iteration=10\n",
    ")\n",
    "model.train(seed=6)"
   ]
  },
  {
   "cell_type": "code",
   "execution_count": 3,
   "id": "ce849301",
   "metadata": {},
   "outputs": [
    {
     "data": {
      "text/plain": [
       "array([[2],\n",
       "       [3],\n",
       "       [1]], dtype=int8)"
      ]
     },
     "execution_count": 3,
     "metadata": {},
     "output_type": "execute_result"
    }
   ],
   "source": [
    "model.get_signals(vector=True)"
   ]
  }
 ],
 "metadata": {
  "kernelspec": {
   "display_name": "Python 3 (ipykernel)",
   "language": "python",
   "name": "python3"
  },
  "language_info": {
   "codemirror_mode": {
    "name": "ipython",
    "version": 3
   },
   "file_extension": ".py",
   "mimetype": "text/x-python",
   "name": "python",
   "nbconvert_exporter": "python",
   "pygments_lexer": "ipython3",
   "version": "3.8.9"
  }
 },
 "nbformat": 4,
 "nbformat_minor": 5
}
