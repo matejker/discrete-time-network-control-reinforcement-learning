{
 "cells": [
  {
   "cell_type": "markdown",
   "id": "cb3927fe",
   "metadata": {},
   "source": [
    "# Algebra for Reinforcement Learning network control\n",
    "\n",
    "However, continues control problems are hard and open problem in Reinforcement Learning (RL), often requires to implement Artificial Neural Networks (ANN) [2]. In this framework we have decided to stick to a discrete variant of this problem. We consider all the network states over a finite fields or Galois Fields ($GF(p^k)$) with _just limited amount_ of $(p^k)^n$ possible states.\n",
    "\n",
    "Additionally, we find it very handy to store network states as $(p^k)$ base numbers along with the state vectors. For smaller bases a significant space is saved.\n",
    "\n",
    "Unlike for a traditional continues problem over a real numbers, using $GF(p^k)$ and $(p^k)$ based numbers put some constrains on using classical \"network algebra\" of adjacency matrix, we need to adjust our computation accordingly. \n",
    "\n",
    "_p is a prime, k - prime factor, n - number of nodes, for further notation see [notation notebook](./00_notation.ipynb)_"
   ]
  },
  {
   "cell_type": "code",
   "execution_count": 1,
   "id": "ed615947",
   "metadata": {},
   "outputs": [],
   "source": [
    "import os\n",
    "import sys\n",
    "import numpy as np\n",
    "\n",
    "module_path = os.path.abspath(os.path.join(\"..\"))\n",
    "if module_path not in sys.path:\n",
    "    sys.path.append(module_path)\n",
    "\n",
    "from network_control_rl_framework.algebra import BaseNumber, FiniteField\n",
    "from network_control_rl_framework.network import Network, calculate_next_state, calculate_next_state_base_number"
   ]
  },
  {
   "cell_type": "markdown",
   "id": "b27bb019",
   "metadata": {},
   "source": [
    "## Computations over a finite field\n",
    "Finite fields or Galois fields $GF(p^k)$ are fields with finite number of elements. The number of elements $p^k$ are called order, $p$ has to be prime number and $k$ is any positive integer.\n",
    "\n",
    "Computations over finite fields with prime order are trivial, they are $mod\\ p$. While for $k > 1$ they are not so obvious and theory of polyninomial is required. Fortunately, there is a nice link between binary numbers and $GF(2^K)$, so any computations can be _easily_ achieved [1]."
   ]
  },
  {
   "cell_type": "code",
   "execution_count": 2,
   "id": "0b5ab4cc",
   "metadata": {},
   "outputs": [
    {
     "name": "stdout",
     "output_type": "stream",
     "text": [
      "a + b = 0\n",
      "a - b = 1\n",
      "a * b = 2\n",
      "a / b = 2\n"
     ]
    }
   ],
   "source": [
    "# Example of 2 and 1 over GF(3)\n",
    "a = FiniteField(2, 3)  \n",
    "b = FiniteField(1, 3)\n",
    "print(f\"a + b = {(a + b).a}\")\n",
    "print(f\"a - b = {(a - b).a}\")\n",
    "print(f\"a * b = {(a * b).a}\")\n",
    "print(f\"a / b = {(a / b).a}\")     "
   ]
  },
  {
   "cell_type": "code",
   "execution_count": 3,
   "id": "a7cec149",
   "metadata": {},
   "outputs": [
    {
     "name": "stdout",
     "output_type": "stream",
     "text": [
      "a = BinaryFiniteField(2, 2) GF(2^2) ≃ Z_2 / <x^2+x^1+1>\n",
      "b = BinaryFiniteField(3, 2) GF(2^2) ≃ Z_2 / <x^2+x^1+1>\n",
      "\n",
      "a + b = 1\n",
      "a - b = 2\n",
      "a * b = 1\n",
      "a / b = 3\n"
     ]
    }
   ],
   "source": [
    "# Example of 2 and 3 over GF(2^2)\n",
    "a = FiniteField(2, 4)  \n",
    "b = FiniteField(3, 4)\n",
    "print(f\"a = {a}\")\n",
    "print(f\"b = {b}\\n\")\n",
    "\n",
    "print(f\"a + b = {(a + b).a}\")\n",
    "print(f\"a - b = {(a - b).a}\")\n",
    "print(f\"a * b = {(a * b).a}\")\n",
    "print(f\"a / b = {(a / b).a}\") "
   ]
  },
  {
   "cell_type": "markdown",
   "id": "e9463940",
   "metadata": {},
   "source": [
    "## $p^k$ - base number\n",
    "The radix or base is the number of unique digits used in positional number systems. They are counted from 0 to $p^k - 1$ (if $p^k - 1$ is larger than 9, letters are used - _a, b, c, e, f_). In this framework, only 2-16 bases are used.\n",
    "\n",
    "Subscript number denotes the base e.g. $1101_3$ = $37_{10}$ means number $1101$ in base $3$ is the same as number $37$ in base $10$.\n",
    "\n",
    "In the network control, base number denotes vectors, e.g. $x = [1,1,0,1]$ is a state vector for a network with $n=4$ over base 3, therefore, for simplicity $x$ can be turn into $37_{10}$."
   ]
  },
  {
   "cell_type": "code",
   "execution_count": 4,
   "id": "ec061f32",
   "metadata": {},
   "outputs": [
    {
     "name": "stdout",
     "output_type": "stream",
     "text": [
      "a_3 = 16_10\n",
      "b_3 = 1_10\n",
      "\n",
      "a_3 + b_3 = 17_10\n"
     ]
    }
   ],
   "source": [
    "# Simple operation over two state vector of n=4 in base 3\n",
    "a_3 = BaseNumber(4, q=3)\n",
    "a_3.from_array(np.array([0, 1, 2, 1], dtype=np.int8))\n",
    "b_3 = BaseNumber(4, q=3)\n",
    "b_3.from_array(np.array([0, 0, 0, 1], dtype=np.int8))\n",
    "\n",
    "print(f\"a_3 = {a_3.a}_10\")\n",
    "print(f\"b_3 = {b_3.a}_10\\n\")\n",
    "\n",
    "print(f\"a_3 + b_3 = {(a_3 + b_3).a}_10\")"
   ]
  },
  {
   "cell_type": "markdown",
   "id": "9f99f64c",
   "metadata": {},
   "source": [
    "## Networks and states' envolution\n",
    "_For network control theory see [network control theory notebook](./01_network_control.ipynb)_  \n",
    "\n",
    "Putting all together, network states are denoted as base numbers over a finite field, therefore, all the computation needs to be align with it.\n",
    "\n",
    "In the following example, there is a simple line network of $n=4$ where we send signals into the first - source node and let the signal be propagated into the rest of the network. According to the time invariant discrete control problem given by: \n",
    "\n",
    "$x_{t+1} = Ax_t + Bu_{t+1}$\n",
    "\n",
    "At every time step, the first - soruce node will recivieve a signal $u_{t+1} = 1_3$."
   ]
  },
  {
   "cell_type": "code",
   "execution_count": 5,
   "id": "36ad96ec",
   "metadata": {},
   "outputs": [],
   "source": [
    "line_network = Network()\n",
    "line_network.from_edges([(0, 1), (1, 2), (2, 3)])\n",
    "\n",
    "x = BaseNumber(line_network.nodes, q=3)\n",
    "x.from_array(np.array([0, 1, 2, 1], dtype=np.int8))\n",
    "\n",
    "signal = BaseNumber(1, q=3)\n",
    "signal.from_array(np.array([1], dtype=np.int8))\n",
    "input_matrix = {0: 0}  # driver node is the node 1"
   ]
  },
  {
   "cell_type": "code",
   "execution_count": 6,
   "id": "beec45a2",
   "metadata": {},
   "outputs": [
    {
     "name": "stdout",
     "output_type": "stream",
     "text": [
      "x_0=[0 1 2 1] (16_10)\n",
      "x_1=[1 0 1 2] (32_10)\n",
      "x_2=[1 1 0 1] (37_10)\n",
      "x_3=[1 1 1 0] (39_10)\n",
      "x_4=[1 1 1 1] (40_10)\n"
     ]
    }
   ],
   "source": [
    "print(f\"x_{0}={x.to_array()} ({x.a}_10)\")\n",
    "for t in range(1, 5):\n",
    "    x = calculate_next_state_base_number(line_network, x, signal, input_matrix)\n",
    "    print(f\"x_{t}={x.to_array()} ({x.a}_10)\")"
   ]
  },
  {
   "cell_type": "markdown",
   "id": "3810834e",
   "metadata": {},
   "source": [
    "## References\n",
    "[1] John Kerl, (2004), \"Computation in finite fields\", https://johnkerl.org/doc/ffcomp.pdf  \n",
    "[2] Volodymyr Mnih1, Koray Kavukcuoglu, David Silver, et.al. (2015), \"Human-level control through deep reinforcement\n",
    "learning\", https://storage.googleapis.com/deepmind-media/dqn/DQNNaturePaper.pdf  "
   ]
  }
 ],
 "metadata": {
  "kernelspec": {
   "display_name": "Python 3 (ipykernel)",
   "language": "python",
   "name": "python3"
  },
  "language_info": {
   "codemirror_mode": {
    "name": "ipython",
    "version": 3
   },
   "file_extension": ".py",
   "mimetype": "text/x-python",
   "name": "python",
   "nbconvert_exporter": "python",
   "pygments_lexer": "ipython3",
   "version": "3.8.9"
  }
 },
 "nbformat": 4,
 "nbformat_minor": 5
}
